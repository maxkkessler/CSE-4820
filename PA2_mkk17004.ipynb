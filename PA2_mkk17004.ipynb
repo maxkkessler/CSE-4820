{
  "nbformat": 4,
  "nbformat_minor": 0,
  "metadata": {
    "colab": {
      "name": "PA2_mkk17004.ipynb",
      "provenance": [],
      "collapsed_sections": [],
      "include_colab_link": true
    },
    "kernelspec": {
      "name": "python3",
      "display_name": "Python 3"
    },
    "language_info": {
      "name": "python"
    }
  },
  "cells": [
    {
      "cell_type": "markdown",
      "metadata": {
        "id": "view-in-github",
        "colab_type": "text"
      },
      "source": [
        "<a href=\"https://colab.research.google.com/github/maxkkessler/CSE-4820/blob/main/PA2_mkk17004.ipynb\" target=\"_parent\"><img src=\"https://colab.research.google.com/assets/colab-badge.svg\" alt=\"Open In Colab\"/></a>"
      ]
    },
    {
      "cell_type": "markdown",
      "metadata": {
        "id": "BU6AO0PruO8_"
      },
      "source": [
        "# **CSE 4820/5819**: Assignment 2 \n",
        "\n",
        "Part II: Programming Assignment (Total 20pt)\n",
        "\n",
        "**Due:** End of Day, November 7th (Sunday)\n",
        "\n",
        "**Submission**: Please submit your jupyter notebook file (*.ipynb) only in HuskyCT assignment link.\n",
        "\n",
        "**Filename**: PA2_[x].ipynb (x is your netid)"
      ]
    },
    {
      "cell_type": "markdown",
      "metadata": {
        "id": "OU5c15kAuboM"
      },
      "source": [
        "In this assignment you will build a classification for the [wine dataset](https://scikit-learn.org/stable/datasets/toy_dataset.html#wine-dataset) using support vector machines. Based on **Tutorial 2**, you will need to use good machine learning modeling practices like creating appropariate dataset splitting, standardizing/normalizing, along with proper hyperparameter tuning.\n",
        "\n",
        "Fill in the missing information, and experiment with the modeling process to arrive at a solution you are comfortable with."
      ]
    },
    {
      "cell_type": "markdown",
      "metadata": {
        "id": "Jo2BWqDwx0Nj"
      },
      "source": [
        "## Load some libraries\n"
      ]
    },
    {
      "cell_type": "code",
      "metadata": {
        "id": "9qQBsIuyy8YT"
      },
      "source": [
        "import numpy as np"
      ],
      "execution_count": null,
      "outputs": []
    },
    {
      "cell_type": "markdown",
      "metadata": {
        "id": "OkeAtaX5yjgR"
      },
      "source": [
        "## Load the data\n",
        "\n",
        "The wine dataset is included within the sklearn library. Start by importing the data."
      ]
    },
    {
      "cell_type": "code",
      "metadata": {
        "id": "e7VTELJ2uJBv"
      },
      "source": [
        "from sklearn.datasets import load_wine\n",
        "wine = load_wine()\n",
        "X = wine.data\n",
        "y = wine.target"
      ],
      "execution_count": null,
      "outputs": []
    },
    {
      "cell_type": "markdown",
      "metadata": {
        "id": "0NLOjuqpKYqw"
      },
      "source": [
        "We can see a description of the data, and even get some summary statistics.\n",
        "\n",
        "Note that since different features have different ranges, this is a hint that we may want to do some some normalizing/standardizing later.\n",
        "\n",
        "It is good practice to read the relevant information associated with the data that will be modeled. This can help inform you whether there may be problems along the way."
      ]
    },
    {
      "cell_type": "code",
      "metadata": {
        "colab": {
          "base_uri": "https://localhost:8080/"
        },
        "id": "S7ftH_jwF4_n",
        "outputId": "0df1dcee-1f92-4699-c097-a1a0f2157309"
      },
      "source": [
        "print(wine.DESCR)"
      ],
      "execution_count": null,
      "outputs": [
        {
          "output_type": "stream",
          "name": "stdout",
          "text": [
            ".. _wine_dataset:\n",
            "\n",
            "Wine recognition dataset\n",
            "------------------------\n",
            "\n",
            "**Data Set Characteristics:**\n",
            "\n",
            "    :Number of Instances: 178 (50 in each of three classes)\n",
            "    :Number of Attributes: 13 numeric, predictive attributes and the class\n",
            "    :Attribute Information:\n",
            " \t\t- Alcohol\n",
            " \t\t- Malic acid\n",
            " \t\t- Ash\n",
            "\t\t- Alcalinity of ash  \n",
            " \t\t- Magnesium\n",
            "\t\t- Total phenols\n",
            " \t\t- Flavanoids\n",
            " \t\t- Nonflavanoid phenols\n",
            " \t\t- Proanthocyanins\n",
            "\t\t- Color intensity\n",
            " \t\t- Hue\n",
            " \t\t- OD280/OD315 of diluted wines\n",
            " \t\t- Proline\n",
            "\n",
            "    - class:\n",
            "            - class_0\n",
            "            - class_1\n",
            "            - class_2\n",
            "\t\t\n",
            "    :Summary Statistics:\n",
            "    \n",
            "    ============================= ==== ===== ======= =====\n",
            "                                   Min   Max   Mean     SD\n",
            "    ============================= ==== ===== ======= =====\n",
            "    Alcohol:                      11.0  14.8    13.0   0.8\n",
            "    Malic Acid:                   0.74  5.80    2.34  1.12\n",
            "    Ash:                          1.36  3.23    2.36  0.27\n",
            "    Alcalinity of Ash:            10.6  30.0    19.5   3.3\n",
            "    Magnesium:                    70.0 162.0    99.7  14.3\n",
            "    Total Phenols:                0.98  3.88    2.29  0.63\n",
            "    Flavanoids:                   0.34  5.08    2.03  1.00\n",
            "    Nonflavanoid Phenols:         0.13  0.66    0.36  0.12\n",
            "    Proanthocyanins:              0.41  3.58    1.59  0.57\n",
            "    Colour Intensity:              1.3  13.0     5.1   2.3\n",
            "    Hue:                          0.48  1.71    0.96  0.23\n",
            "    OD280/OD315 of diluted wines: 1.27  4.00    2.61  0.71\n",
            "    Proline:                       278  1680     746   315\n",
            "    ============================= ==== ===== ======= =====\n",
            "\n",
            "    :Missing Attribute Values: None\n",
            "    :Class Distribution: class_0 (59), class_1 (71), class_2 (48)\n",
            "    :Creator: R.A. Fisher\n",
            "    :Donor: Michael Marshall (MARSHALL%PLU@io.arc.nasa.gov)\n",
            "    :Date: July, 1988\n",
            "\n",
            "This is a copy of UCI ML Wine recognition datasets.\n",
            "https://archive.ics.uci.edu/ml/machine-learning-databases/wine/wine.data\n",
            "\n",
            "The data is the results of a chemical analysis of wines grown in the same\n",
            "region in Italy by three different cultivators. There are thirteen different\n",
            "measurements taken for different constituents found in the three types of\n",
            "wine.\n",
            "\n",
            "Original Owners: \n",
            "\n",
            "Forina, M. et al, PARVUS - \n",
            "An Extendible Package for Data Exploration, Classification and Correlation. \n",
            "Institute of Pharmaceutical and Food Analysis and Technologies,\n",
            "Via Brigata Salerno, 16147 Genoa, Italy.\n",
            "\n",
            "Citation:\n",
            "\n",
            "Lichman, M. (2013). UCI Machine Learning Repository\n",
            "[https://archive.ics.uci.edu/ml]. Irvine, CA: University of California,\n",
            "School of Information and Computer Science. \n",
            "\n",
            ".. topic:: References\n",
            "\n",
            "  (1) S. Aeberhard, D. Coomans and O. de Vel, \n",
            "  Comparison of Classifiers in High Dimensional Settings, \n",
            "  Tech. Rep. no. 92-02, (1992), Dept. of Computer Science and Dept. of  \n",
            "  Mathematics and Statistics, James Cook University of North Queensland. \n",
            "  (Also submitted to Technometrics). \n",
            "\n",
            "  The data was used with many others for comparing various \n",
            "  classifiers. The classes are separable, though only RDA \n",
            "  has achieved 100% correct classification. \n",
            "  (RDA : 100%, QDA 99.4%, LDA 98.9%, 1NN 96.1% (z-transformed data)) \n",
            "  (All results using the leave-one-out technique) \n",
            "\n",
            "  (2) S. Aeberhard, D. Coomans and O. de Vel, \n",
            "  \"THE CLASSIFICATION PERFORMANCE OF RDA\" \n",
            "  Tech. Rep. no. 92-01, (1992), Dept. of Computer Science and Dept. of \n",
            "  Mathematics and Statistics, James Cook University of North Queensland. \n",
            "  (Also submitted to Journal of Chemometrics).\n",
            "\n"
          ]
        }
      ]
    },
    {
      "cell_type": "markdown",
      "metadata": {
        "id": "OouSAtFzIuJ-"
      },
      "source": [
        "## Question 1 (1 Point):\n",
        "\n",
        "When using an SVM to classify data, we must make sure there is no missing data. That is, no feature can have have an `nan` value as SVMs cannot handle missing data during the modeling process. \n",
        "\n",
        "In the description of the data above (using wine.DESCR) we saw that **Missing Attribute Values: None** was documented.\n",
        "\n",
        "Confirm that there are no missing values assuming that missing is recorded as `nan`."
      ]
    },
    {
      "cell_type": "code",
      "metadata": {
        "id": "6m9OB0r3Jsua",
        "colab": {
          "base_uri": "https://localhost:8080/"
        },
        "outputId": "41b8a664-4b2f-485b-8c19-88978ab8c289"
      },
      "source": [
        "for i in X:\n",
        "  for e in i:\n",
        "    if e == 'nan':\n",
        "      print(\"nan value present\")\n",
        "print(\"no nan values\")"
      ],
      "execution_count": null,
      "outputs": [
        {
          "output_type": "stream",
          "name": "stdout",
          "text": [
            "no nan values\n"
          ]
        }
      ]
    },
    {
      "cell_type": "markdown",
      "metadata": {
        "id": "9Od49-TB0T9g"
      },
      "source": [
        "## Question 2 (2 Points):\n",
        "\n",
        "Split the data into a training and testing set using the function `train_test_split` with the parameter `random_state = 42` for reproducibility using 30% of the data for the test set."
      ]
    },
    {
      "cell_type": "code",
      "metadata": {
        "id": "WTg9zb2m0c41"
      },
      "source": [
        "from sklearn.model_selection import train_test_split\n",
        "\n",
        "X_train, X_test, y_train, y_test = train_test_split(X, y,test_size=0.30,random_state=42)"
      ],
      "execution_count": null,
      "outputs": []
    },
    {
      "cell_type": "markdown",
      "metadata": {
        "id": "if-Wt63z1XY-"
      },
      "source": [
        "## Question 3 (4 Points):\n",
        "\n",
        "Set up the pipeline for your model. Depending on how the data looks, you may want to use some type of normalization or standardization. The pipeline can include any necessary preprocessing steps along with the model.\n",
        "\n",
        "Since this is a multi-class problem, ensure that this is taken into account when setting up the SVM by using a one-versus-the-rest configuration."
      ]
    },
    {
      "cell_type": "code",
      "metadata": {
        "id": "9Mu8Qacg1YxK"
      },
      "source": [
        "from sklearn.pipeline import Pipeline\n",
        "from sklearn.svm import SVC\n",
        "from sklearn.preprocessing import MinMaxScaler\n",
        "from sklearn.preprocessing import StandardScaler\n",
        "\n",
        "pipe = Pipeline([('scale', StandardScaler()),\n",
        "                 ('clf', SVC(decision_function_shape='ovr'))])\n",
        "#Scale is the standard scale\n",
        "#We use the SVC with a one-vs-rest or ovr true"
      ],
      "execution_count": null,
      "outputs": []
    },
    {
      "cell_type": "markdown",
      "metadata": {
        "id": "x4CyB3ki2O1I"
      },
      "source": [
        "## Question 4 (5 Points):\n",
        "\n",
        "Define which parameters you want to use in your grid search."
      ]
    },
    {
      "cell_type": "code",
      "metadata": {
        "id": "sDReH7_32Idc"
      },
      "source": [
        "param_grid = {'clf__C': [.01, .1, 1, 5, 100],\n",
        "                'clf__gamma': [1, 5, .1],\n",
        "                'clf__kernel': ['linear', 'rbf']}       "
      ],
      "execution_count": null,
      "outputs": []
    },
    {
      "cell_type": "markdown",
      "metadata": {
        "id": "ZnLUk0452bfB"
      },
      "source": [
        "## Question 5 (5 Points):\n",
        "\n",
        "Instantiate `GridSearchCV` for selecting the best hyperparameters.\n",
        "\n",
        "* Set up `GridSearchCV` with 5 fold cross-validation. \n",
        "* The `scoring` parameter tells `GridSearchCV` how to rank the parameter configurations from the grid searching procedure. Since we are interested in producing a classification model with the highest accuracy, set this parameter accordingly. To learn more about what might work here, please see [metrics and scoring](https://scikit-learn.org/stable/modules/model_evaluation.html)."
      ]
    },
    {
      "cell_type": "code",
      "metadata": {
        "id": "GihfrE4A2a6e"
      },
      "source": [
        "from sklearn.model_selection import GridSearchCV\n",
        "\n",
        "grid = GridSearchCV(pipe, param_grid, scoring='accuracy',  cv=5, verbose = 1)"
      ],
      "execution_count": null,
      "outputs": []
    },
    {
      "cell_type": "markdown",
      "metadata": {
        "id": "PUTlf3zd3bZr"
      },
      "source": [
        "## Question 6 (1 Point):\n",
        "\n",
        "Use the `fit` method to train the model:"
      ]
    },
    {
      "cell_type": "code",
      "metadata": {
        "id": "DPbCy6mT3Q8c",
        "colab": {
          "base_uri": "https://localhost:8080/"
        },
        "outputId": "b108b861-eed6-4c5d-82f6-65cc9883444c"
      },
      "source": [
        "grid.fit(X_train, y_train)"
      ],
      "execution_count": null,
      "outputs": [
        {
          "output_type": "stream",
          "name": "stdout",
          "text": [
            "Fitting 5 folds for each of 30 candidates, totalling 150 fits\n"
          ]
        },
        {
          "output_type": "stream",
          "name": "stderr",
          "text": [
            "[Parallel(n_jobs=1)]: Using backend SequentialBackend with 1 concurrent workers.\n",
            "[Parallel(n_jobs=1)]: Done 150 out of 150 | elapsed:    0.4s finished\n"
          ]
        },
        {
          "output_type": "execute_result",
          "data": {
            "text/plain": [
              "GridSearchCV(cv=5, error_score=nan,\n",
              "             estimator=Pipeline(memory=None,\n",
              "                                steps=[('scale',\n",
              "                                        StandardScaler(copy=True,\n",
              "                                                       with_mean=True,\n",
              "                                                       with_std=True)),\n",
              "                                       ('clf',\n",
              "                                        SVC(C=1.0, break_ties=False,\n",
              "                                            cache_size=200, class_weight=None,\n",
              "                                            coef0=0.0,\n",
              "                                            decision_function_shape='ovr',\n",
              "                                            degree=3, gamma='scale',\n",
              "                                            kernel='rbf', max_iter=-1,\n",
              "                                            probability=False,\n",
              "                                            random_state=None, shrinking=True,\n",
              "                                            tol=0.001, verbose=False))],\n",
              "                                verbose=False),\n",
              "             iid='deprecated', n_jobs=None,\n",
              "             param_grid={'clf__C': [0.01, 0.1, 1, 5, 100],\n",
              "                         'clf__gamma': [1, 5, 0.1],\n",
              "                         'clf__kernel': ['linear', 'rbf']},\n",
              "             pre_dispatch='2*n_jobs', refit=True, return_train_score=False,\n",
              "             scoring='accuracy', verbose=1)"
            ]
          },
          "metadata": {},
          "execution_count": 28
        }
      ]
    },
    {
      "cell_type": "markdown",
      "metadata": {
        "id": "FfJBwUx-3m-9"
      },
      "source": [
        "## Question 7 (1 Point):\n",
        "\n",
        "Print out the best model score."
      ]
    },
    {
      "cell_type": "code",
      "metadata": {
        "id": "aSY7jox73qiT",
        "colab": {
          "base_uri": "https://localhost:8080/"
        },
        "outputId": "16097528-58f3-4774-ecbd-89be494b1e43"
      },
      "source": [
        "print(\"Best parameter (CV score=%0.3f):\" % grid.best_score_)"
      ],
      "execution_count": null,
      "outputs": [
        {
          "output_type": "stream",
          "name": "stdout",
          "text": [
            "Best parameter (CV score=0.984):\n"
          ]
        }
      ]
    },
    {
      "cell_type": "markdown",
      "metadata": {
        "id": "nZJS5pZJi83y"
      },
      "source": [
        "## Question 8 (1 Point):\n",
        "\n",
        "Print out parameter configuration associated with the best model."
      ]
    },
    {
      "cell_type": "code",
      "metadata": {
        "id": "ftnex_SajBYS",
        "colab": {
          "base_uri": "https://localhost:8080/"
        },
        "outputId": "a77faf4a-df3c-4988-e355-d1d0ff5223d4"
      },
      "source": [
        "print(grid.best_params_)"
      ],
      "execution_count": null,
      "outputs": [
        {
          "output_type": "stream",
          "name": "stdout",
          "text": [
            "{'clf__C': 1, 'clf__gamma': 1, 'clf__kernel': 'linear'}\n"
          ]
        }
      ]
    }
  ]
}