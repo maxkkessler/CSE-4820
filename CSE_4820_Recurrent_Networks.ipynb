{
  "nbformat": 4,
  "nbformat_minor": 0,
  "metadata": {
    "colab": {
      "name": "CSE_4820_Recurrent_Networks.ipynb",
      "provenance": [],
      "collapsed_sections": [],
      "include_colab_link": true
    },
    "kernelspec": {
      "name": "python3",
      "display_name": "Python 3"
    },
    "language_info": {
      "name": "python"
    }
  },
  "cells": [
    {
      "cell_type": "markdown",
      "metadata": {
        "id": "view-in-github",
        "colab_type": "text"
      },
      "source": [
        "<a href=\"https://colab.research.google.com/github/maxkkessler/CSE-4820/blob/main/CSE_4820_Recurrent_Networks.ipynb\" target=\"_parent\"><img src=\"https://colab.research.google.com/assets/colab-badge.svg\" alt=\"Open In Colab\"/></a>"
      ]
    },
    {
      "cell_type": "markdown",
      "metadata": {
        "id": "NgZ0wkAbk_85"
      },
      "source": [
        "# **CSE 4820/5819**: Assignment 4 \n",
        "**Part II** [25 Points Total]\n",
        "\n",
        "**Due**: **End of Day, Dec 14**"
      ]
    },
    {
      "cell_type": "markdown",
      "metadata": {
        "id": "kfES-af1li9s"
      },
      "source": [
        "In this assignment you will use Keras to build a recurrent neural network to predict the daily closing price of a stock of your choosing. If you are unsure what to use, you can check out this list on [NASDAQ](https://www.nasdaq.com/market-activity/stocks/screener) or just use Tesla's stock which has the ticker symbol TSLA."
      ]
    },
    {
      "cell_type": "markdown",
      "metadata": {
        "id": "kGv33AFku7OA"
      },
      "source": [
        "## Load some necessary libraries"
      ]
    },
    {
      "cell_type": "markdown",
      "metadata": {
        "id": "75iuYn8AMnmM"
      },
      "source": [
        ""
      ]
    },
    {
      "cell_type": "code",
      "metadata": {
        "id": "2HjA5q_PkyMw"
      },
      "source": [
        "import math\n",
        "import numpy as np\n",
        "import pandas as pd\n",
        "import tensorflow as tf\n",
        "import matplotlib.pyplot as plt\n",
        "\n",
        "np.random.seed(42)\n",
        "tf.random.set_seed(42)"
      ],
      "execution_count": 305,
      "outputs": []
    },
    {
      "cell_type": "markdown",
      "metadata": {
        "id": "hp1xbq7ovGVJ"
      },
      "source": [
        "To get stock data, we will use the `yfinance` library. You can read more about it [here](https://pypi.org/project/yfinance/)."
      ]
    },
    {
      "cell_type": "code",
      "metadata": {
        "id": "hX3yBllIvKal",
        "colab": {
          "base_uri": "https://localhost:8080/"
        },
        "outputId": "2182155e-f705-4201-dc70-e499cefa85c4"
      },
      "source": [
        "# This library isn't part of Colab, but we can install it\n",
        "!pip install yfinance\n",
        "\n",
        "import yfinance as yf"
      ],
      "execution_count": 291,
      "outputs": [
        {
          "output_type": "stream",
          "name": "stdout",
          "text": [
            "Requirement already satisfied: yfinance in /usr/local/lib/python3.7/dist-packages (0.1.67)\n",
            "Requirement already satisfied: numpy>=1.15 in /usr/local/lib/python3.7/dist-packages (from yfinance) (1.19.5)\n",
            "Requirement already satisfied: multitasking>=0.0.7 in /usr/local/lib/python3.7/dist-packages (from yfinance) (0.0.10)\n",
            "Requirement already satisfied: lxml>=4.5.1 in /usr/local/lib/python3.7/dist-packages (from yfinance) (4.6.4)\n",
            "Requirement already satisfied: requests>=2.20 in /usr/local/lib/python3.7/dist-packages (from yfinance) (2.23.0)\n",
            "Requirement already satisfied: pandas>=0.24 in /usr/local/lib/python3.7/dist-packages (from yfinance) (1.1.5)\n",
            "Requirement already satisfied: pytz>=2017.2 in /usr/local/lib/python3.7/dist-packages (from pandas>=0.24->yfinance) (2018.9)\n",
            "Requirement already satisfied: python-dateutil>=2.7.3 in /usr/local/lib/python3.7/dist-packages (from pandas>=0.24->yfinance) (2.8.2)\n",
            "Requirement already satisfied: six>=1.5 in /usr/local/lib/python3.7/dist-packages (from python-dateutil>=2.7.3->pandas>=0.24->yfinance) (1.15.0)\n",
            "Requirement already satisfied: chardet<4,>=3.0.2 in /usr/local/lib/python3.7/dist-packages (from requests>=2.20->yfinance) (3.0.4)\n",
            "Requirement already satisfied: certifi>=2017.4.17 in /usr/local/lib/python3.7/dist-packages (from requests>=2.20->yfinance) (2021.10.8)\n",
            "Requirement already satisfied: urllib3!=1.25.0,!=1.25.1,<1.26,>=1.21.1 in /usr/local/lib/python3.7/dist-packages (from requests>=2.20->yfinance) (1.24.3)\n",
            "Requirement already satisfied: idna<3,>=2.5 in /usr/local/lib/python3.7/dist-packages (from requests>=2.20->yfinance) (2.10)\n"
          ]
        }
      ]
    },
    {
      "cell_type": "markdown",
      "metadata": {
        "id": "V2GNqaGtvxHC"
      },
      "source": [
        "The ticker symbol for Tesla is TSLA. The start date will be January 1, 2018, and the end date will be December 1, 2021. We will use daily prices. If you want to use a different stock, replace TSLA with the appropriate ticker symbol."
      ]
    },
    {
      "cell_type": "code",
      "metadata": {
        "id": "RCPeoSiSvwXk",
        "colab": {
          "base_uri": "https://localhost:8080/"
        },
        "outputId": "5361e84a-1551-47b8-929b-48c87868e6d5"
      },
      "source": [
        "df = yf.download(\"TSLA\", start=\"2016-01-01\", end=\"2021-12-01\", interval=\"1d\")"
      ],
      "execution_count": 292,
      "outputs": [
        {
          "output_type": "stream",
          "name": "stdout",
          "text": [
            "\r[*********************100%***********************]  1 of 1 completed\n"
          ]
        }
      ]
    },
    {
      "cell_type": "markdown",
      "metadata": {
        "id": "IUwTrcHEwm5L"
      },
      "source": [
        "Let's take a look at what we have:"
      ]
    },
    {
      "cell_type": "code",
      "metadata": {
        "id": "Ks7WVtEbwtf9",
        "colab": {
          "base_uri": "https://localhost:8080/",
          "height": 237
        },
        "outputId": "769fa28d-60ee-481c-8585-908dff3dc04f"
      },
      "source": [
        "df.head()"
      ],
      "execution_count": 293,
      "outputs": [
        {
          "output_type": "execute_result",
          "data": {
            "text/html": [
              "<div>\n",
              "<style scoped>\n",
              "    .dataframe tbody tr th:only-of-type {\n",
              "        vertical-align: middle;\n",
              "    }\n",
              "\n",
              "    .dataframe tbody tr th {\n",
              "        vertical-align: top;\n",
              "    }\n",
              "\n",
              "    .dataframe thead th {\n",
              "        text-align: right;\n",
              "    }\n",
              "</style>\n",
              "<table border=\"1\" class=\"dataframe\">\n",
              "  <thead>\n",
              "    <tr style=\"text-align: right;\">\n",
              "      <th></th>\n",
              "      <th>Open</th>\n",
              "      <th>High</th>\n",
              "      <th>Low</th>\n",
              "      <th>Close</th>\n",
              "      <th>Adj Close</th>\n",
              "      <th>Volume</th>\n",
              "    </tr>\n",
              "    <tr>\n",
              "      <th>Date</th>\n",
              "      <th></th>\n",
              "      <th></th>\n",
              "      <th></th>\n",
              "      <th></th>\n",
              "      <th></th>\n",
              "      <th></th>\n",
              "    </tr>\n",
              "  </thead>\n",
              "  <tbody>\n",
              "    <tr>\n",
              "      <th>2016-01-04</th>\n",
              "      <td>46.144001</td>\n",
              "      <td>46.276001</td>\n",
              "      <td>43.799999</td>\n",
              "      <td>44.681999</td>\n",
              "      <td>44.681999</td>\n",
              "      <td>34135500</td>\n",
              "    </tr>\n",
              "    <tr>\n",
              "      <th>2016-01-05</th>\n",
              "      <td>45.271999</td>\n",
              "      <td>45.377998</td>\n",
              "      <td>44.000000</td>\n",
              "      <td>44.686001</td>\n",
              "      <td>44.686001</td>\n",
              "      <td>15934000</td>\n",
              "    </tr>\n",
              "    <tr>\n",
              "      <th>2016-01-06</th>\n",
              "      <td>44.000000</td>\n",
              "      <td>44.009998</td>\n",
              "      <td>43.195999</td>\n",
              "      <td>43.807999</td>\n",
              "      <td>43.807999</td>\n",
              "      <td>18895500</td>\n",
              "    </tr>\n",
              "    <tr>\n",
              "      <th>2016-01-07</th>\n",
              "      <td>42.838001</td>\n",
              "      <td>43.688000</td>\n",
              "      <td>42.734001</td>\n",
              "      <td>43.130001</td>\n",
              "      <td>43.130001</td>\n",
              "      <td>17771500</td>\n",
              "    </tr>\n",
              "    <tr>\n",
              "      <th>2016-01-08</th>\n",
              "      <td>43.571999</td>\n",
              "      <td>44.088001</td>\n",
              "      <td>42.153999</td>\n",
              "      <td>42.200001</td>\n",
              "      <td>42.200001</td>\n",
              "      <td>18140500</td>\n",
              "    </tr>\n",
              "  </tbody>\n",
              "</table>\n",
              "</div>"
            ],
            "text/plain": [
              "                 Open       High        Low      Close  Adj Close    Volume\n",
              "Date                                                                       \n",
              "2016-01-04  46.144001  46.276001  43.799999  44.681999  44.681999  34135500\n",
              "2016-01-05  45.271999  45.377998  44.000000  44.686001  44.686001  15934000\n",
              "2016-01-06  44.000000  44.009998  43.195999  43.807999  43.807999  18895500\n",
              "2016-01-07  42.838001  43.688000  42.734001  43.130001  43.130001  17771500\n",
              "2016-01-08  43.571999  44.088001  42.153999  42.200001  42.200001  18140500"
            ]
          },
          "metadata": {},
          "execution_count": 293
        }
      ]
    },
    {
      "cell_type": "markdown",
      "metadata": {
        "id": "G9Wd-OsZw5Ya"
      },
      "source": [
        "## Create the datasets"
      ]
    },
    {
      "cell_type": "markdown",
      "metadata": {
        "id": "SAdFoWThxhLB"
      },
      "source": [
        "We need to decide what timeframe will belong to the training set, and testing set.\n",
        "\n",
        "Partition the data:\n",
        "* The **training** data will be from January 1 2016 - December 31 2020.\n",
        "* The **testing** data will be from January 1 2021 - December 1 2021. "
      ]
    },
    {
      "cell_type": "code",
      "metadata": {
        "id": "4nZ5HGXLw9dj",
        "colab": {
          "base_uri": "https://localhost:8080/",
          "height": 492
        },
        "outputId": "2f717815-e0a1-4672-846a-9a553a411465"
      },
      "source": [
        "# We have chosen 'Close' attribute for prices. Let's see what it looks like\n",
        "df[\"Close\"][:'2020'].plot(figsize=(16,8),legend=True)\n",
        "df[\"Close\"]['2021':].plot(figsize=(16,8),legend=True)\n",
        "plt.legend(['Training set (Before 2021)','Test set (2021 and beyond)'], loc='upper left', prop={'size': 20})\n",
        "plt.title('Close Price History', fontsize=18)\n",
        "plt.xlabel('Date',fontsize=18)\n",
        "plt.ylabel('Close Price USD ($)', fontsize=18)\n",
        "plt.show()"
      ],
      "execution_count": 294,
      "outputs": [
        {
          "output_type": "display_data",
          "data": {
            "image/png": "[encoded data removed]",
            "text/plain": [
              "<Figure size 1152x576 with 1 Axes>"
            ]
          },
          "metadata": {
            "needs_background": "light"
          }
        }
      ]
    },
    {
      "cell_type": "code",
      "metadata": {
        "id": "r-A6ozdrw3ET"
      },
      "source": [
        "# split into train and test sets using 'Close' and convert the dataframe to a numpy array\n",
        "train_set = df[:'2020'].iloc[:,3:4].values\n",
        "test_set = df['2021':].iloc[:,3:4].values"
      ],
      "execution_count": 295,
      "outputs": []
    },
    {
      "cell_type": "code",
      "metadata": {
        "id": "o6OZ2S-oz7YP",
        "colab": {
          "base_uri": "https://localhost:8080/"
        },
        "outputId": "812b7b31-4fd2-4768-c73f-5a4f1f66440a"
      },
      "source": [
        "print(len(train_set), len(test_set))"
      ],
      "execution_count": 296,
      "outputs": [
        {
          "output_type": "stream",
          "name": "stdout",
          "text": [
            "1259 230\n"
          ]
        }
      ]
    },
    {
      "cell_type": "markdown",
      "metadata": {
        "id": "ge0p8Qjm0KhD"
      },
      "source": [
        "## Question 1: Preprocessing the data [1 Point]:"
      ]
    },
    {
      "cell_type": "markdown",
      "metadata": {
        "id": "b4OUClgh0fEt"
      },
      "source": [
        "Use either the `MinMaxScaler` or `StandardScaler` to appropriately normalize/standardize the data. Make sure to only use the `fit` method on the training data."
      ]
    },
    {
      "cell_type": "code",
      "metadata": {
        "id": "jEz8_xX3z75Q"
      },
      "source": [
        "import pandas as pd\n",
        "import numpy as np\n",
        "from sklearn.preprocessing import StandardScaler, MinMaxScaler\n",
        "\n",
        "# Copy=True allows us to make a copy of the data that is scaled rather then just scaling the data\n",
        "scaler = StandardScaler(copy=True)\n",
        "# scaler = MinMaxScaler(copy=True)\n",
        "\n",
        "# Fit the data by the scalers and then transform it\n",
        "train_set = scaler.fit_transform(train_set)\n",
        "\n",
        "\n",
        "\n",
        "\n",
        "\n"
      ],
      "execution_count": 297,
      "outputs": []
    },
    {
      "cell_type": "markdown",
      "metadata": {
        "id": "TmEiuTy11obJ"
      },
      "source": [
        "## Question 2: Creating the Training Samples [1 Point]:"
      ]
    },
    {
      "cell_type": "code",
      "metadata": {
        "id": "DXpQuhsS13NU"
      },
      "source": [
        "# We create a data structure with look_back number timesteps and 1 output\n",
        "# So for each element of training set, we have look_back previous training set elements \n",
        "\n",
        "# You can use the following function to create the training set\n",
        "\n",
        "def create_training_samples(data, look_back):\n",
        "  X_train = []\n",
        "  y_train = []\n",
        "  for i in range(look_back,len(data)):\n",
        "      X_train.append(data[i-look_back:i,0])\n",
        "      y_train.append(data[i,0])\n",
        "  return np.array(X_train), np.array(y_train)"
      ],
      "execution_count": 298,
      "outputs": []
    },
    {
      "cell_type": "markdown",
      "metadata": {
        "id": "z1nscndP4S90"
      },
      "source": [
        "Use the above function to create the training data based on the normalized/standardized data from Question 1. The parameter `look_back` is your choice, and will impact the performance of the model. Running the model with a few different choices will be beneficial; specify your final choice.\n",
        "\n",
        "Hint: Look back at tutorial 4, it's very similar."
      ]
    },
    {
      "cell_type": "code",
      "metadata": {
        "id": "Yn7q7Qlf4K3T"
      },
      "source": [
        "# How many days we look at before predicting the next day\n",
        "look_back = 10\n",
        "\n",
        "# Creates the training data and labels for the Recurrent Network\n",
        "X_train, Y_train = create_training_samples(train_set, look_back)\n",
        "\n"
      ],
      "execution_count": 299,
      "outputs": []
    },
    {
      "cell_type": "code",
      "metadata": {
        "id": "-geYVqRRjeVj",
        "colab": {
          "base_uri": "https://localhost:8080/"
        },
        "outputId": "f470e5e7-9869-4e21-9673-28d5a9d060c3"
      },
      "source": [
        "print(X_train.shape)\n",
        "print(Y_train.shape)"
      ],
      "execution_count": 300,
      "outputs": [
        {
          "output_type": "stream",
          "name": "stdout",
          "text": [
            "(1249, 10)\n",
            "(1249,)\n"
          ]
        }
      ]
    },
    {
      "cell_type": "markdown",
      "metadata": {
        "id": "7k1sVuCB4xZv"
      },
      "source": [
        "Recall that in Keras, we need the input data to have a specific format, that is:\n",
        "\n",
        "$$[\\text{batch size}, \\text{time steps}, \\text{dimensionality}]$$"
      ]
    },
    {
      "cell_type": "code",
      "metadata": {
        "id": "CSSeqqUu4pSs"
      },
      "source": [
        "# Reshaping X_train for efficient modelling\n",
        "X_train = np.reshape(X_train, (X_train.shape[0],X_train.shape[1],1))\n"
      ],
      "execution_count": 301,
      "outputs": []
    },
    {
      "cell_type": "markdown",
      "metadata": {
        "id": "UoWpK6Hi6CfH"
      },
      "source": [
        "## Question 3: Creating the Testing Samples [1 Point]:"
      ]
    },
    {
      "cell_type": "markdown",
      "metadata": {
        "id": "4u1TuR3-6ZET"
      },
      "source": [
        "We will carefully create the testing set. Since we use a `look_back` length sequence to predict the following closing day price there is a discontinuity between the training and testing sets. Specifically, the last `look_back` number of days in the training set are needed to predict the first closing price of the testing set. "
      ]
    },
    {
      "cell_type": "code",
      "metadata": {
        "id": "IpbBraVL6O6a"
      },
      "source": [
        "# We get the test set ready in a similar way as the training set but account for the data needed to predict the early test set values.\n",
        "\n",
        "dataset_total = pd.concat((df[\"Close\"][:'2020'],df[\"Close\"]['2021':]),axis=0)\n",
        "inputs = dataset_total[len(dataset_total)-len(test_set) - look_back:].values\n",
        "inputs = inputs.reshape(-1,1)\n",
        "\n",
        "# Use the scaler you created in Question 1 to transform the inputs\n",
        "inputs  = scaler.fit_transform(inputs)\n"
      ],
      "execution_count": 302,
      "outputs": []
    },
    {
      "cell_type": "code",
      "metadata": {
        "id": "t3F4WBIc5obN"
      },
      "source": [
        "# Preparing X_test and predicting the prices\n",
        "def fix_test(inputs):\n",
        "  X_test = []\n",
        "  for i in range(look_back,len(test_set)+look_back):\n",
        "      X_test.append(inputs[i-look_back:i,0])\n",
        "  X_test = np.array(X_test)\n",
        "  X_test = np.reshape(X_test, (X_test.shape[0],X_test.shape[1],1))\n",
        "  return X_test\n",
        "\n",
        "X_test = fix_test(inputs)\n"
      ],
      "execution_count": 303,
      "outputs": []
    },
    {
      "cell_type": "markdown",
      "metadata": {
        "id": "HW4k6-szDOxY"
      },
      "source": [
        "## Some helpful functions"
      ]
    },
    {
      "cell_type": "code",
      "metadata": {
        "id": "QtcUYcvoDSLj"
      },
      "source": [
        "# Helpful Functions\n",
        "\n",
        "#Get the root mean squared error (RSME)\n",
        "def return_rmse(predicted, test):\n",
        "  return np.sqrt( np.mean( predicted - test )**2 )\n",
        "\n",
        "def plot_predictions(df_train, df_test, predictions):\n",
        "  df_test['Predictions'] = predictions\n",
        "\n",
        "  #Visualize the data\n",
        "  plt.figure(figsize=(16,8))\n",
        "  plt.title('Close Price History with Model Predictions', fontsize=18)\n",
        "  plt.xlabel('Date', fontsize=18)\n",
        "  plt.ylabel('Close price USD ($)', fontsize=18)\n",
        "  plt.plot(df_train['Close'])\n",
        "  plt.plot(df_test[['Close', 'Predictions']])\n",
        "  plt.legend(['Training set (Before 2020)','Test set (2021 and beyond)', 'Predictions'], loc='best', prop={'size': 20})\n",
        "  plt.show()"
      ],
      "execution_count": 304,
      "outputs": []
    },
    {
      "cell_type": "markdown",
      "metadata": {
        "id": "9JyIoIqZD__h"
      },
      "source": [
        "## Question 4: Build a network [10 Points]:\n",
        "\n",
        "Reviewing the recurrent neural network section in tutorial 4 will be helpful. The documentation on `Sequential` may also be of help, see [here](https://keras.io/api/models/sequential/).\n",
        "\n",
        "Use Keras to define a model, and print a summary of the architecture. This is the 'art' part of deep learning. Things to try:\n",
        "\n",
        "* Different kinds of layers (SimpleRNN, LSTM)\n",
        "* Stacking layers\n",
        "* Increasing or decreasing the number of hidden units"
      ]
    },
    {
      "cell_type": "code",
      "metadata": {
        "id": "q_E0chGQEOnI",
        "colab": {
          "base_uri": "https://localhost:8080/"
        },
        "outputId": "696feccc-52ef-43b4-ed79-833485ebdef6"
      },
      "source": [
        "from keras import Sequential\n",
        "from keras.layers import SimpleRNN, Dense, LSTM\n",
        "\n",
        "# model = Sequential(name='SimpleRNN')\n",
        "# model.add(SimpleRNN(10, input_shape=(look_back,1))) #simple recurrent layer, 10 neurons & process 15x1 sequences\n",
        "# model.add(Dense(1,activation='linear')) #linear output because this is a regression problem\n",
        "# model.summary()\n",
        "\n",
        "# model = Sequential(name='DeepRNN')\n",
        "# model.add(SimpleRNN(100, return_sequences=True, input_shape=(10,1)))\n",
        "# model.add(SimpleRNN(10, return_sequences=True, input_shape=(10,1)))\n",
        "# model.add(SimpleRNN(10, input_shape=(10,1)))\n",
        "# model.add(Dense(1,activation='linear')) #linear output because this is a regression problem\n",
        "# model.summary()\n",
        "\n",
        "model = Sequential(name='LSTM')\n",
        "model.add(LSTM(100, return_sequences=True, input_shape=(10,1)))\n",
        "model.add(LSTM(50, return_sequences=True, input_shape=(10,1)))\n",
        "model.add(LSTM(25))\n",
        "model.add(Dense(1,activation='linear')) #linear output because this is a regression problem\n",
        "model.summary()\n",
        "\n"
      ],
      "execution_count": 363,
      "outputs": [
        {
          "output_type": "stream",
          "name": "stdout",
          "text": [
            "Model: \"LSTM\"\n",
            "_________________________________________________________________\n",
            " Layer (type)                Output Shape              Param #   \n",
            "=================================================================\n",
            " lstm_20 (LSTM)              (None, 10, 100)           40800     \n",
            "                                                                 \n",
            " lstm_21 (LSTM)              (None, 10, 50)            30200     \n",
            "                                                                 \n",
            " lstm_22 (LSTM)              (None, 25)                7600      \n",
            "                                                                 \n",
            " dense_29 (Dense)            (None, 1)                 26        \n",
            "                                                                 \n",
            "=================================================================\n",
            "Total params: 78,626\n",
            "Trainable params: 78,626\n",
            "Non-trainable params: 0\n",
            "_________________________________________________________________\n"
          ]
        }
      ]
    },
    {
      "cell_type": "markdown",
      "metadata": {
        "id": "2OexhU20LehP"
      },
      "source": [
        "## Question 5: Compile the Model [5 Points]\n",
        "\n",
        "This requires specifying an appropriate loss function, and choosing an optimization algorithm. "
      ]
    },
    {
      "cell_type": "code",
      "metadata": {
        "id": "SbxhpjhRLdpG"
      },
      "source": [
        "model.compile(loss='mse', optimizer='Adam')"
      ],
      "execution_count": 364,
      "outputs": []
    },
    {
      "cell_type": "markdown",
      "metadata": {
        "id": "LJKplNwRL-F_"
      },
      "source": [
        "## Question 6: Fit the Model [3 Points]\n",
        "\n",
        "In this step you can try adjusting the number of epochs the model trains to see if your loss improves."
      ]
    },
    {
      "cell_type": "code",
      "metadata": {
        "id": "dPNSyVBgMOel",
        "colab": {
          "base_uri": "https://localhost:8080/"
        },
        "outputId": "468e3c50-5fbc-46eb-dad6-624c9d5cc272"
      },
      "source": [
        "history = model.fit(X_train,Y_train,epochs=70)"
      ],
      "execution_count": 365,
      "outputs": [
        {
          "output_type": "stream",
          "name": "stdout",
          "text": [
            "Epoch 1/70\n",
            "40/40 [==============================] - 7s 23ms/step - loss: 0.2490\n",
            "Epoch 2/70\n",
            "40/40 [==============================] - 1s 23ms/step - loss: 0.0383\n",
            "Epoch 3/70\n",
            "40/40 [==============================] - 1s 23ms/step - loss: 0.0237\n",
            "Epoch 4/70\n",
            "40/40 [==============================] - 1s 22ms/step - loss: 0.0159\n",
            "Epoch 5/70\n",
            "40/40 [==============================] - 1s 22ms/step - loss: 0.0209\n",
            "Epoch 6/70\n",
            "40/40 [==============================] - 1s 24ms/step - loss: 0.0254\n",
            "Epoch 7/70\n",
            "40/40 [==============================] - 1s 23ms/step - loss: 0.0218\n",
            "Epoch 8/70\n",
            "40/40 [==============================] - 1s 22ms/step - loss: 0.0142\n",
            "Epoch 9/70\n",
            "40/40 [==============================] - 1s 22ms/step - loss: 0.0186\n",
            "Epoch 10/70\n",
            "40/40 [==============================] - 1s 23ms/step - loss: 0.1269\n",
            "Epoch 11/70\n",
            "40/40 [==============================] - 1s 23ms/step - loss: 0.0398\n",
            "Epoch 12/70\n",
            "40/40 [==============================] - 1s 24ms/step - loss: 0.0179\n",
            "Epoch 13/70\n",
            "40/40 [==============================] - 1s 24ms/step - loss: 0.0147\n",
            "Epoch 14/70\n",
            "40/40 [==============================] - 1s 24ms/step - loss: 0.0124\n",
            "Epoch 15/70\n",
            "40/40 [==============================] - 1s 23ms/step - loss: 0.0135\n",
            "Epoch 16/70\n",
            "40/40 [==============================] - 1s 23ms/step - loss: 0.0129\n",
            "Epoch 17/70\n",
            "40/40 [==============================] - 1s 23ms/step - loss: 0.0137\n",
            "Epoch 18/70\n",
            "40/40 [==============================] - 1s 23ms/step - loss: 0.0124\n",
            "Epoch 19/70\n",
            "40/40 [==============================] - 1s 23ms/step - loss: 0.0125\n",
            "Epoch 20/70\n",
            "40/40 [==============================] - 1s 23ms/step - loss: 0.0114\n",
            "Epoch 21/70\n",
            "40/40 [==============================] - 1s 22ms/step - loss: 0.0117\n",
            "Epoch 22/70\n",
            "40/40 [==============================] - 1s 22ms/step - loss: 0.0110\n",
            "Epoch 23/70\n",
            "40/40 [==============================] - 1s 23ms/step - loss: 0.0115\n",
            "Epoch 24/70\n",
            "40/40 [==============================] - 1s 24ms/step - loss: 0.0107\n",
            "Epoch 25/70\n",
            "40/40 [==============================] - 1s 23ms/step - loss: 0.0129\n",
            "Epoch 26/70\n",
            "40/40 [==============================] - 1s 23ms/step - loss: 0.0105\n",
            "Epoch 27/70\n",
            "40/40 [==============================] - 1s 22ms/step - loss: 0.0112\n",
            "Epoch 28/70\n",
            "40/40 [==============================] - 1s 23ms/step - loss: 0.0100\n",
            "Epoch 29/70\n",
            "40/40 [==============================] - 1s 23ms/step - loss: 0.0094\n",
            "Epoch 30/70\n",
            "40/40 [==============================] - 1s 23ms/step - loss: 0.0122\n",
            "Epoch 31/70\n",
            "40/40 [==============================] - 1s 24ms/step - loss: 0.0118\n",
            "Epoch 32/70\n",
            "40/40 [==============================] - 1s 22ms/step - loss: 0.0091\n",
            "Epoch 33/70\n",
            "40/40 [==============================] - 1s 23ms/step - loss: 0.0112\n",
            "Epoch 34/70\n",
            "40/40 [==============================] - 1s 23ms/step - loss: 0.0094\n",
            "Epoch 35/70\n",
            "40/40 [==============================] - 1s 23ms/step - loss: 0.0085\n",
            "Epoch 36/70\n",
            "40/40 [==============================] - 1s 23ms/step - loss: 0.0094\n",
            "Epoch 37/70\n",
            "40/40 [==============================] - 1s 23ms/step - loss: 0.0087\n",
            "Epoch 38/70\n",
            "40/40 [==============================] - 1s 23ms/step - loss: 0.0084\n",
            "Epoch 39/70\n",
            "40/40 [==============================] - 1s 22ms/step - loss: 0.0092\n",
            "Epoch 40/70\n",
            "40/40 [==============================] - 1s 22ms/step - loss: 0.0080\n",
            "Epoch 41/70\n",
            "40/40 [==============================] - 1s 24ms/step - loss: 0.0072\n",
            "Epoch 42/70\n",
            "40/40 [==============================] - 1s 23ms/step - loss: 0.0075\n",
            "Epoch 43/70\n",
            "40/40 [==============================] - 1s 23ms/step - loss: 0.0078\n",
            "Epoch 44/70\n",
            "40/40 [==============================] - 1s 23ms/step - loss: 0.0083\n",
            "Epoch 45/70\n",
            "40/40 [==============================] - 1s 23ms/step - loss: 0.0070\n",
            "Epoch 46/70\n",
            "40/40 [==============================] - 1s 23ms/step - loss: 0.0062\n",
            "Epoch 47/70\n",
            "40/40 [==============================] - 1s 23ms/step - loss: 0.0076\n",
            "Epoch 48/70\n",
            "40/40 [==============================] - 1s 23ms/step - loss: 0.0070\n",
            "Epoch 49/70\n",
            "40/40 [==============================] - 1s 22ms/step - loss: 0.0075\n",
            "Epoch 50/70\n",
            "40/40 [==============================] - 1s 22ms/step - loss: 0.0064\n",
            "Epoch 51/70\n",
            "40/40 [==============================] - 1s 23ms/step - loss: 0.0062\n",
            "Epoch 52/70\n",
            "40/40 [==============================] - 1s 22ms/step - loss: 0.0058\n",
            "Epoch 53/70\n",
            "40/40 [==============================] - 1s 22ms/step - loss: 0.0054\n",
            "Epoch 54/70\n",
            "40/40 [==============================] - 1s 22ms/step - loss: 0.0057\n",
            "Epoch 55/70\n",
            "40/40 [==============================] - 1s 23ms/step - loss: 0.0074\n",
            "Epoch 56/70\n",
            "40/40 [==============================] - 1s 22ms/step - loss: 0.0069\n",
            "Epoch 57/70\n",
            "40/40 [==============================] - 1s 23ms/step - loss: 0.0060\n",
            "Epoch 58/70\n",
            "40/40 [==============================] - 1s 24ms/step - loss: 0.0057\n",
            "Epoch 59/70\n",
            "40/40 [==============================] - 1s 23ms/step - loss: 0.0052\n",
            "Epoch 60/70\n",
            "40/40 [==============================] - 1s 22ms/step - loss: 0.0058\n",
            "Epoch 61/70\n",
            "40/40 [==============================] - 1s 22ms/step - loss: 0.0048\n",
            "Epoch 62/70\n",
            "40/40 [==============================] - 1s 22ms/step - loss: 0.0050\n",
            "Epoch 63/70\n",
            "40/40 [==============================] - 1s 23ms/step - loss: 0.0049\n",
            "Epoch 64/70\n",
            "40/40 [==============================] - 1s 23ms/step - loss: 0.0103\n",
            "Epoch 65/70\n",
            "40/40 [==============================] - 1s 22ms/step - loss: 0.0061\n",
            "Epoch 66/70\n",
            "40/40 [==============================] - 1s 22ms/step - loss: 0.0051\n",
            "Epoch 67/70\n",
            "40/40 [==============================] - 1s 22ms/step - loss: 0.0064\n",
            "Epoch 68/70\n",
            "40/40 [==============================] - 1s 22ms/step - loss: 0.0057\n",
            "Epoch 69/70\n",
            "40/40 [==============================] - 1s 23ms/step - loss: 0.0048\n",
            "Epoch 70/70\n",
            "40/40 [==============================] - 1s 24ms/step - loss: 0.0051\n"
          ]
        }
      ]
    },
    {
      "cell_type": "markdown",
      "metadata": {
        "id": "vaO4UPI-MYR_"
      },
      "source": [
        "## Question 7: Prediction [2 Points]\n",
        "\n",
        "Use your model to predict the closing prices on the test set.\n",
        "\n",
        "Use the `inverse_transform` method from your scaling to undo the normalization/standardization. This will give you predictions on the same scale as the original data."
      ]
    },
    {
      "cell_type": "code",
      "metadata": {
        "id": "2lsqtwD3M5Ok"
      },
      "source": [
        "predictions = model.predict(X_test)\n",
        "predictions = scaler.inverse_transform(predictions)"
      ],
      "execution_count": 369,
      "outputs": []
    },
    {
      "cell_type": "markdown",
      "metadata": {
        "id": "ur0yCIa1NFEN"
      },
      "source": [
        "## Question 8: Calculate RMSE [1 Point]\n",
        "\n",
        "Calculate the root mean-squared error between the predictions from Question 7 (on the same scale as original data) and the ground truth."
      ]
    },
    {
      "cell_type": "code",
      "metadata": {
        "id": "tCsqZzwNNawX",
        "colab": {
          "base_uri": "https://localhost:8080/"
        },
        "outputId": "55f21a2c-7c30-4f53-ea00-88ae2dc0fab9"
      },
      "source": [
        "print(return_rmse(predictions,test_set))"
      ],
      "execution_count": 368,
      "outputs": [
        {
          "output_type": "stream",
          "name": "stdout",
          "text": [
            "2.7036453910495926\n"
          ]
        }
      ]
    },
    {
      "cell_type": "markdown",
      "metadata": {
        "id": "aWElfcn4M673"
      },
      "source": [
        "## Question 9: Plot the predictions [1 Point]\n",
        "\n"
      ]
    },
    {
      "cell_type": "code",
      "metadata": {
        "id": "-sfx0mgrNr6M",
        "colab": {
          "base_uri": "https://localhost:8080/",
          "height": 524
        },
        "outputId": "5b5597ae-5f3e-491a-a42d-6129c03db302"
      },
      "source": [
        "plot_predictions(df_train = df[:'2020'].iloc[:,3:4], df_test = df['2021':].iloc[:,3:4], predictions = predictions)"
      ],
      "execution_count": 370,
      "outputs": [
        {
          "output_type": "display_data",
          "data": {
            "image/png": "[encoded data removed]",
            "text/plain": [
              "<Figure size 1152x576 with 1 Axes>"
            ]
          },
          "metadata": {
            "needs_background": "light"
          }
        }
      ]
    },
    {
      "cell_type": "code",
      "source": [
        "# Model Notes \n",
        "\n",
        "# Simple RNN\n",
        "  # SS, neurons = 10, look_back = 10, epoch = 100 - rmse = 3.015\n",
        "  # MM, neurons = 10, look_back = 10, epoch = 100 - rmse = 3.02\n",
        "  # MM, neurons = 10, look_back = 10, epoch = 100 - rmse = 3.02\n",
        "    # The loss doesn't really change after 150\n",
        "  # SS, neurons = 10, look_back = 10, epoch = 150 - rmse = 0.816 \n",
        "    # pretty good!\n",
        "  # SS, neurons = 10, look_back = 20, epoch = 150 - rmse = 2.23\n",
        "    # Keep look_back at 10?\n",
        "  # SS, neurons = 100, look_back = 10, epoch = 150 - rmse = 1.87\n",
        "\n",
        "# Deep RNN\n",
        "  # 3 layers, neurons = (10,10,10), look_back = 10, epoch = 150 - rmse = 3.55\n",
        "    # Takes too long lower epoch to 50\n",
        "  # 3 layers, neurons = (10,10,10), look_back = 10, epoch = 50 - rmse = 3.55\n",
        "  # 3 layers, neurons = (10,10,10), look_back = 10, epoch = 50 - rmse = 1.34\n",
        "  # 3 layers, neurons = (100,10,10) , look_back = 10, epoch = 50 - rmse = 1.50\n",
        "  # 4 layers, neurons = (10,10,10, 10) , look_back = 10, epoch = 50 - rmse = 4.49\n",
        "\n",
        "# LSTM\n",
        "  # 2 layers, neurons = (50,50), look_back = 10, epoch = 50 - rmse = 1.19\n",
        "  # 2 layers, neurons = (50,50), look_back = 10, epoch = 150 - rmse = 1.09\n",
        "    # Took too long\n",
        "  # 2 layers, neurons = (100,50), look_back = 10, epoch = 70 - rmse = 1.12\n",
        "  # 3 layers, neurons = (100,50,25), look_back = 10, epoch = 70 - rmse = 0.86\n",
        "    # Good add one more layer?\n",
        "  # 4 layers, neurons = (100,50,50,25), look_back = 10, epoch = 70 - rmse = 2.01\n",
        "\n",
        "\n"
      ],
      "metadata": {
        "id": "M7MI2-8a5Ke8"
      },
      "execution_count": 312,
      "outputs": []
    },
    {
      "cell_type": "markdown",
      "metadata": {
        "id": "dzphuPLfCQu0"
      },
      "source": [
        "## Question 10: Model Critique Questions [Bonus: 1 Point]\n",
        "\n",
        "Sometimes modeling a problem is easy, and other times it can be very challenging. It is often good to take a step back and think about when your model is successful and when it isn't, and why this might be so. This experience is something you will be able to take with you when you work on future models. Think about the way you modelled the stock data and consider the following questions. \n",
        "\n",
        "1.   During your modeling process, did you discover anything interesting? \n",
        "2.   Did any any problems come up? If so, please describe them and include your thoughts on addressing them.\n",
        "3.   Do you think anything is missing from this model training pipeline, compared with our previous model training in Assignment 2?\n",
        "4.   How might you improve your model?\n",
        "\n",
        "Please write your answers below in a text box or commenting in a code block.\n",
        "\n"
      ]
    },
    {
      "cell_type": "markdown",
      "metadata": {
        "id": "j71Ki9Z_KzGI"
      },
      "source": [
        ""
      ]
    },
    {
      "cell_type": "code",
      "metadata": {
        "id": "LS7w_IYYKyJg"
      },
      "source": [
        ""
      ],
      "execution_count": 312,
      "outputs": []
    }
  ]
}